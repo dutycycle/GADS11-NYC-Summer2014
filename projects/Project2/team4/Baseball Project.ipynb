{
 "metadata": {
  "name": "",
  "signature": "sha256:72d84cf20729cf1c73f38dd5289a9656a4f1a5c33ebb8209b92d05daa861d4f0"
 },
 "nbformat": 3,
 "nbformat_minor": 0,
 "worksheets": [
  {
   "cells": [
    {
     "cell_type": "code",
     "collapsed": false,
     "input": [
      "from sklearn.metrics import mean_absolute_error\n",
      "from sklearn.cross_validation import train_test_split\n",
      "import csv\n",
      "import numpy as np\n",
      "import pandas as pd\n",
      "from dateutil import parser\n",
      "import pylab as pl\n",
      "import statsmodels.api as sm\n",
      "import matplotlib.pyplot as plt\n",
      "import random\n",
      "from sklearn.preprocessing import scale\n",
      "from numpy import inf\n",
      "import scipy.stats as stats\n",
      "import pylab"
     ],
     "language": "python",
     "metadata": {},
     "outputs": [],
     "prompt_number": 9
    },
    {
     "cell_type": "code",
     "collapsed": false,
     "input": [
      "batting_salary = pd.read_csv(\"baseball.csv\")\n",
      "pitching = pd.read_csv(\"pitching.csv\")"
     ],
     "language": "python",
     "metadata": {},
     "outputs": [],
     "prompt_number": 10
    },
    {
     "cell_type": "code",
     "collapsed": false,
     "input": [
      "# DROP UNWANTED VARIABLES #\n",
      "batting_salary = batting_salary.drop(['lahmanID', 'managerID', 'birthYear', 'birthMonth', 'birthDay',\n",
      "\t'birthCountry', 'birthState', 'birthCity', 'deathYear', 'deathMonth', 'deathDay', 'deathCountry',\n",
      "\t'deathState', 'deathCity', 'nameFirst','nameLast', 'nameNote', 'nameGiven', 'nameNick','bats',\n",
      "\t'throws', 'debut', 'finalGame', 'college','lahman40ID', 'lahman45ID', 'retroID', 'holtzID',\n",
      "\t'bbrefID', 'deathDate', 'birthDate','teamID', 'lgID', 'stint','G_batting', 'X2B', 'X3B',\n",
      "\t'CS', 'SO', 'IBB', 'HBP', 'SH', 'SF', 'GIDP', 'G_old', 'hofID', 'height', 'HR', 'RBI', 'H', 'AB', 'R'], axis =1)\n",
      "\n",
      "keep_cols = list(set(pitching.columns)-set(batting_salary.columns))\n",
      "keep_cols = keep_cols + ['playerID','yearID']\n",
      "pitching = pitching[keep_cols]\n",
      "pitching = pitching.drop(['GIDP','SH','SF'], axis=1)\n",
      "pitching = pitching[['ERA','SO','playerID','yearID']]\n",
      "\n",
      "# MERGE DATASETS #\n",
      "data = pd.merge(batting_salary, pitching, on=['playerID','yearID'], how='outer')\n",
      "data = data.drop(['playerID','yearID'], axis=1)\n",
      "\n",
      "# DROP PITCHERS FROM DATASET #\n",
      "index = data['ERA'].index[data['ERA'].apply(np.isnan)]\n",
      "slimdata = data.loc[index]\n",
      "slimdata = slimdata.drop(['ERA','SO'], axis=1)\n",
      "\n",
      "### CHECKING VARIABLE RELATIONSHIPS ###\n",
      "# SHRINKING THE DATA TO MAKE VISUALIZATIONS EASIER #\n",
      "\n",
      "slimdata['random'] = np.random.randn(len(slimdata))\n",
      "slimdata = slimdata[slimdata.random > 1]\n",
      "del slimdata['random']\n",
      "\n",
      "# LOG TRANSFORMATIONS WHERE NECESSARY #\n",
      "slimdata.SB = np.log(slimdata.SB)\n",
      "slimdata.BB = np.log(slimdata.BB)\n",
      "slimdata.salary = np.log(slimdata.salary)\n",
      "\n",
      "# REPLACE INF VALUES WITH NAN #\n",
      "slimdata = slimdata.replace([inf, -inf], np.nan)\n",
      "\n",
      "# DROP NAN #\n",
      "slimdata = slimdata.dropna()\n",
      "\n",
      "### PLOTTING SCATTERPLOT MATRIX FOR COLLINEARITY ###\n",
      "\n",
      "### RUNNING REGRESSION MODEL ###\n",
      "\n",
      "# CREATING INTERCEPT #\n",
      "slimdata['intercept'] = 1\n",
      "\n",
      "# DEFINING IVs & DVs #\n",
      "X = slimdata.drop(['salary'], axis = 1)\n",
      "y = slimdata['salary']\n",
      "\n",
      "xtrain, xtest, ytrain, ytest = train_test_split(X, y)\n",
      "\n",
      "# RUNNING REGRESSION #\n",
      "\n",
      "model = sm.OLS(ytrain, xtrain)\n",
      "results = model.fit()\n",
      "print results.summary()\n"
     ],
     "language": "python",
     "metadata": {},
     "outputs": [
      {
       "output_type": "stream",
       "stream": "stdout",
       "text": [
        "                            OLS Regression Results                            \n",
        "==============================================================================\n",
        "Dep. Variable:                      y   R-squared:                       0.175\n",
        "Model:                            OLS   Adj. R-squared:                  0.172\n",
        "Method:                 Least Squares   F-statistic:                     56.06\n",
        "Date:                Sat, 26 Jul 2014   Prob (F-statistic):           6.60e-43\n",
        "Time:                        13:58:40   Log-Likelihood:                -1758.3\n",
        "No. Observations:                1060   AIC:                             3527.\n",
        "Df Residuals:                    1055   BIC:                             3551.\n",
        "Df Model:                           4                                         \n",
        "==============================================================================\n",
        "                 coef    std err          t      P>|t|      [95.0% Conf. Int.]\n",
        "------------------------------------------------------------------------------\n",
        "x1             0.0066      0.002      3.422      0.001         0.003     0.010\n",
        "x2            -0.0015      0.002     -0.896      0.371        -0.005     0.002\n",
        "x3            -0.0714      0.041     -1.761      0.078        -0.151     0.008\n",
        "x4             0.7269      0.076      9.541      0.000         0.577     0.876\n",
        "const         10.2324      0.374     27.335      0.000         9.498    10.967\n",
        "==============================================================================\n",
        "Omnibus:                       74.561   Durbin-Watson:                   1.958\n",
        "Prob(Omnibus):                  0.000   Jarque-Bera (JB):               30.023\n",
        "Skew:                           0.166   Prob(JB):                     3.02e-07\n",
        "Kurtosis:                       2.245   Cond. No.                     2.14e+03\n",
        "==============================================================================\n",
        "\n",
        "Warnings:\n",
        "[1] The condition number is large, 2.14e+03. This might indicate that there are\n",
        "strong multicollinearity or other numerical problems.\n"
       ]
      }
     ],
     "prompt_number": 11
    },
    {
     "cell_type": "code",
     "collapsed": false,
     "input": [
      "print mean_absolute_error(ytest, results.predict(xtest))"
     ],
     "language": "python",
     "metadata": {},
     "outputs": [
      {
       "output_type": "stream",
       "stream": "stdout",
       "text": [
        "1.05731458172\n"
       ]
      }
     ],
     "prompt_number": 12
    },
    {
     "cell_type": "code",
     "collapsed": false,
     "input": [
      "# COLLINEARITY HISTOGRAM #\n",
      "pd.tools.plotting.scatter_matrix(slimdata, alpha=0.2, diagonal='hist')\n",
      "plt.show()\n"
     ],
     "language": "python",
     "metadata": {},
     "outputs": [],
     "prompt_number": 13
    },
    {
     "cell_type": "code",
     "collapsed": false,
     "input": [],
     "language": "python",
     "metadata": {},
     "outputs": []
    }
   ],
   "metadata": {}
  }
 ]
}