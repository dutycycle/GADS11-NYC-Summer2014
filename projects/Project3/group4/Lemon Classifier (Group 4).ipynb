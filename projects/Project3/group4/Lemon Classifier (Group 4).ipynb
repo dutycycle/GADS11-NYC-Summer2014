{
 "metadata": {
  "name": "",
  "signature": "sha256:139d5149cc02962218a668225751f0ce4d84ecb482d0deeabebb7ee6314db3db"
 },
 "nbformat": 3,
 "nbformat_minor": 0,
 "worksheets": [
  {
   "cells": [
    {
     "cell_type": "code",
     "collapsed": false,
     "input": [
      "import pandas as pd\n",
      "from sklearn import tree"
     ],
     "language": "python",
     "metadata": {},
     "outputs": [],
     "prompt_number": 1
    },
    {
     "cell_type": "code",
     "collapsed": false,
     "input": [
      "train = pd.read_csv(\"lemon_training.csv\")\n",
      "test = pd.read_csv(\"lemon_test.csv\")\n",
      "\n",
      "X = train\n",
      "\n",
      "X['PRIMEUNIT'] = X['PRIMEUNIT'].fillna(\"UNKNOWN\")\n",
      "X['AUCGUART'] = X['AUCGUART'].fillna(\"UNKNOWN\")\n",
      "\n",
      "X = X.dropna()\n",
      "\n",
      "print X.columns\n",
      "\n",
      "Y = X['IsBadBuy'].values\n",
      "X = X.drop('IsBadBuy', 1)"
     ],
     "language": "python",
     "metadata": {},
     "outputs": [
      {
       "output_type": "stream",
       "stream": "stdout",
       "text": [
        "Index([u'RefId', u'IsBadBuy', u'PurchDate', u'Auction', u'VehYear', u'VehicleAge', u'Make', u'Model', u'Trim', u'SubModel', u'Color', u'Transmission', u'WheelTypeID', u'WheelType', u'VehOdo', u'Nationality', u'Size', u'TopThreeAmericanName', u'MMRAcquisitionAuctionAveragePrice', u'MMRAcquisitionAuctionCleanPrice', u'MMRAcquisitionRetailAveragePrice', u'MMRAcquisitonRetailCleanPrice', u'MMRCurrentAuctionAveragePrice', u'MMRCurrentAuctionCleanPrice', u'MMRCurrentRetailAveragePrice', u'MMRCurrentRetailCleanPrice', u'PRIMEUNIT', u'AUCGUART', u'BYRNO', u'VNZIP1', u'VNST', u'VehBCost', u'IsOnlineSale', u'WarrantyCost'], dtype='object')\n"
       ]
      }
     ],
     "prompt_number": 101
    },
    {
     "cell_type": "code",
     "collapsed": false,
     "input": [
      "\n",
      "\n",
      "text_features = X.dtypes[X.dtypes == 'object'].index\n",
      "\n",
      "print text_features\n",
      "\n",
      "for feature in text_features:\n",
      "    print feature\n",
      "    le = LabelEncoder()\n",
      "    le.fit(X[feature])\n",
      "    X[feature] = le.transform(X[feature])\n",
      "    \n",
      "    \n"
     ],
     "language": "python",
     "metadata": {},
     "outputs": [
      {
       "output_type": "stream",
       "stream": "stdout",
       "text": [
        "Index([u'PurchDate', u'Auction', u'Make', u'Model', u'Trim', u'SubModel', u'Color', u'Transmission', u'WheelType', u'Nationality', u'Size', u'TopThreeAmericanName', u'PRIMEUNIT', u'AUCGUART', u'VNST'], dtype='object')\n",
        "PurchDate\n",
        "Auction\n",
        "Make\n",
        "Model"
       ]
      },
      {
       "output_type": "stream",
       "stream": "stdout",
       "text": [
        "\n",
        "Trim\n",
        "SubModel"
       ]
      },
      {
       "output_type": "stream",
       "stream": "stdout",
       "text": [
        "\n",
        "Color\n",
        "Transmission\n",
        "WheelType"
       ]
      },
      {
       "output_type": "stream",
       "stream": "stdout",
       "text": [
        "\n",
        "Nationality\n",
        "Size\n",
        "TopThreeAmericanName\n",
        "PRIMEUNIT\n",
        "AUCGUART\n",
        "VNST\n"
       ]
      }
     ],
     "prompt_number": 102
    },
    {
     "cell_type": "code",
     "collapsed": false,
     "input": [
      "from sklearn.cross_validation import train_test_split\n",
      "\n",
      "print X.head()\n",
      "\n",
      "xtrain, xtest, ytrain, ytest = train_test_split(X, Y, test_size = .25)\n",
      "\n",
      "print xtrain[0]"
     ],
     "language": "python",
     "metadata": {},
     "outputs": [
      {
       "output_type": "stream",
       "stream": "stdout",
       "text": [
        "   RefId  PurchDate  Auction  VehYear  VehicleAge  Make  Model  Trim  \\\n",
        "0      1        162        0     2006           3    16    503   125   \n",
        "1      2        162        0     2004           5     5      0    87   \n",
        "2      5        162        0     2005           4     6    317   119   \n",
        "3      6        162        0     2004           5    19    363    22   \n",
        "4      7        162        0     2004           5    13    726    23   \n",
        "\n",
        "   SubModel  Color  Transmission  WheelTypeID  WheelType  VehOdo  Nationality  \\\n",
        "0       199     12             0            1          0   89046            2   \n",
        "1       685     14             0            1          0   93593            0   \n",
        "2        49     13             1            2          1   69367            0   \n",
        "3       173     14             0            2          1   81054            2   \n",
        "4       175      1             0            2          1   65328            2   \n",
        "\n",
        "   Size  TopThreeAmericanName  MMRAcquisitionAuctionAveragePrice  \\\n",
        "0     5                     3                               8155   \n",
        "1     4                     0                               6854   \n",
        "2     0                     1                               3913   \n",
        "3     5                     3                               3901   \n",
        "4     5                     3                               2966   \n",
        "\n",
        "   MMRAcquisitionAuctionCleanPrice  MMRAcquisitionRetailAveragePrice      \n",
        "0                             9829                             11636 ...  \n",
        "1                             8383                             10897 ...  \n",
        "2                             5054                              7723 ...  \n",
        "3                             4908                              6706 ...  \n",
        "4                             4038                              6240 ...  \n",
        "\n",
        "[5 rows x 33 columns]\n",
        "[  6.81600000e+04   2.48000000e+02   0.00000000e+00   2.00700000e+03\n",
        "   2.00000000e+00   4.00000000e+00   5.84000000e+02   1.00000000e+02\n",
        "   2.94000000e+02   1.30000000e+01   0.00000000e+00   1.00000000e+00\n",
        "   0.00000000e+00   5.01140000e+04   0.00000000e+00   1.00000000e+00\n",
        "   0.00000000e+00   1.18810000e+04   1.35660000e+04   1.33310000e+04\n",
        "   1.51510000e+04   1.22190000e+04   1.42890000e+04   1.36970000e+04\n",
        "   1.59320000e+04   1.00000000e+00   2.00000000e+00   2.10530000e+04\n",
        "   8.08170000e+04   4.00000000e+00   9.61000000e+03   0.00000000e+00\n",
        "   1.08600000e+03]"
       ]
      },
      {
       "output_type": "stream",
       "stream": "stdout",
       "text": [
        "\n"
       ]
      }
     ],
     "prompt_number": 103
    },
    {
     "cell_type": "code",
     "collapsed": false,
     "input": [
      "from sklearn import metrics\n",
      "\n",
      "def measure_model_performance(clf):\n",
      "    y_pred=clf.predict(xtest)   \n",
      "\n",
      "    print \"Accuracy:{0:.3f}\".format(metrics.accuracy_score(ytest,y_pred)),\"\\n\"\n",
      "\n",
      "    print \"Classification report\"\n",
      "    print metrics.classification_report(ytest,y_pred),\"\\n\"\n",
      "\n",
      "    print \"Confusion matrix\"\n",
      "    print metrics.confusion_matrix(ytest,y_pred),\"\\n\"\n",
      "\n",
      "    print \"F1 Score\"\n",
      "    print metrics.f1_score(ytest, y_pred)"
     ],
     "language": "python",
     "metadata": {},
     "outputs": [],
     "prompt_number": 46
    },
    {
     "cell_type": "code",
     "collapsed": false,
     "input": [
      "def loo_cv(X_train,y_train,clf):\n",
      "    # Perform Leave-One-Out cross validation\n",
      "    loo = LeaveOneOut(X_train[:].shape[0])\n",
      "    scores=np.zeros(X_train[:].shape[0])\n",
      "    for train_index,test_index in loo:\n",
      "        X_train_cv, X_test_cv= X_train[train_index], X_train[test_index]\n",
      "        y_train_cv, y_test_cv= y_train[train_index], y_train[test_index]\n",
      "        clf = clf.fit(X_train_cv,y_train_cv)\n",
      "        y_pred=clf.predict(X_test_cv)\n",
      "        scores[test_index]=metrics.accuracy_score(y_test_cv.astype(int), y_pred.astype(int))\n",
      "    print (\"Mean score: {0:.3f} (+/-{1:.3f})\").format(np.mean(scores), sem(scores))"
     ],
     "language": "python",
     "metadata": {},
     "outputs": []
    },
    {
     "cell_type": "code",
     "collapsed": false,
     "input": [
      "## RANDOM FOREST\n",
      "\n",
      "\n",
      "print xtrain[0]\n",
      "\n",
      "from sklearn.ensemble import RandomForestClassifier\n",
      "clf = RandomForestClassifier()#n_estimators=10,random_state=33)\n",
      "clf = clf.fit(xtrain,ytrain)\n",
      "\n",
      "measure_model_performance(clf)"
     ],
     "language": "python",
     "metadata": {},
     "outputs": [
      {
       "output_type": "stream",
       "stream": "stdout",
       "text": [
        "[  6.81600000e+04   2.48000000e+02   0.00000000e+00   2.00700000e+03\n",
        "   2.00000000e+00   4.00000000e+00   5.84000000e+02   1.00000000e+02\n",
        "   2.94000000e+02   1.30000000e+01   0.00000000e+00   1.00000000e+00\n",
        "   0.00000000e+00   5.01140000e+04   0.00000000e+00   1.00000000e+00\n",
        "   0.00000000e+00   1.18810000e+04   1.35660000e+04   1.33310000e+04\n",
        "   1.51510000e+04   1.22190000e+04   1.42890000e+04   1.36970000e+04\n",
        "   1.59320000e+04   1.00000000e+00   2.00000000e+00   2.10530000e+04\n",
        "   8.08170000e+04   4.00000000e+00   9.61000000e+03   0.00000000e+00\n",
        "   1.08600000e+03]\n",
        "Accuracy:0.905"
       ]
      },
      {
       "output_type": "stream",
       "stream": "stdout",
       "text": [
        " \n",
        "\n",
        "Classification report\n",
        "             precision    recall  f1-score   support\n",
        "\n",
        "          0       0.91      1.00      0.95     10664\n",
        "          1       0.30      0.02      0.03      1095\n",
        "\n",
        "avg / total       0.85      0.90      0.86     11759\n",
        "\n",
        "\n",
        "Confusion matrix\n",
        "[[10619    45]\n",
        " [ 1076    19]] \n",
        "\n",
        "F1 Score\n",
        "0.0327868852459\n"
       ]
      }
     ],
     "prompt_number": 104
    },
    {
     "cell_type": "code",
     "collapsed": false,
     "input": [],
     "language": "python",
     "metadata": {},
     "outputs": []
    }
   ],
   "metadata": {}
  }
 ]
}